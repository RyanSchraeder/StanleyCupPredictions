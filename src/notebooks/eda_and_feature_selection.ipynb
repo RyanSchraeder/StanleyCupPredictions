{
 "cells": [
  {
   "cell_type": "code",
   "execution_count": 1,
   "metadata": {},
   "outputs": [],
   "source": [
    "import os \n",
    "import numpy as np\n",
    "import pandas as pd \n",
    "\n",
    "from typing import Any, Dict, List\n",
    "\n",
    "import seaborn as sns\n",
    "import matplotlib.pyplot as plt\n",
    "\n",
    "import scipy.stats as stats\n",
    "\n",
    "# from etl import file_access\n",
    "\n",
    "## Data Source: https://www.hockey-reference.com/leagues/NHL_2022.html ##\n",
    "path = '/Users/rschraeder/Desktop/Projects/StanleyCupPredictions/data/'"
   ]
  },
  {
   "cell_type": "markdown",
   "metadata": {},
   "source": [
    "# NHL 2022 Season Performance Predictions\n",
    "\n",
    "In this analysis, I use current known stats in the NHL to predict outcomes for a team matchup. With statistical testing, exploratory analysis, and ensemble classification, my goal is to determine the outcome of a team matchup."
   ]
  },
  {
   "cell_type": "markdown",
   "metadata": {},
   "source": [
    "## Datasets\n",
    "\n",
    "The data included is very robust, including all current information and some metrics for team performance. I import a league history of games during the regular season as well as each team's overall stats. You'll notice I incorporated feature engineering into the imports. This helps me keep things tight so I don't worry about conflicts after merging the data together. The cleaning was performed in a separate notebook to keep this clean and organized. "
   ]
  },
  {
   "cell_type": "markdown",
   "metadata": {},
   "source": [
    "#### Team Statistics"
   ]
  },
  {
   "cell_type": "code",
   "execution_count": 2,
   "metadata": {},
   "outputs": [
    {
     "name": "stdout",
     "output_type": "stream",
     "text": [
      "Index(['Rk', 'Team', 'AvAge', 'GP', 'W', 'L', 'OL', 'PTS', 'PTS%', 'GF', 'GA',\n",
      "       'SOW', 'SOL', 'SRS', 'SOS', 'GF/G', 'GA/G', 'PP', 'PPO', 'PP%', 'PPA',\n",
      "       'PPOA', 'PK%', 'SH', 'SHA', 'PIM/G', 'oPIM/G', 'S', 'S%', 'SA', 'SV%',\n",
      "       'SO', 'G', 'PPG', 'SHOOTOUTS'],\n",
      "      dtype='object')\n"
     ]
    },
    {
     "data": {
      "text/html": [
       "<div>\n",
       "<style scoped>\n",
       "    .dataframe tbody tr th:only-of-type {\n",
       "        vertical-align: middle;\n",
       "    }\n",
       "\n",
       "    .dataframe tbody tr th {\n",
       "        vertical-align: top;\n",
       "    }\n",
       "\n",
       "    .dataframe thead th {\n",
       "        text-align: right;\n",
       "    }\n",
       "</style>\n",
       "<table border=\"1\" class=\"dataframe\">\n",
       "  <thead>\n",
       "    <tr style=\"text-align: right;\">\n",
       "      <th></th>\n",
       "      <th>Rk</th>\n",
       "      <th>Team</th>\n",
       "      <th>AvAge</th>\n",
       "      <th>GP</th>\n",
       "      <th>W</th>\n",
       "      <th>L</th>\n",
       "      <th>OL</th>\n",
       "      <th>PTS</th>\n",
       "      <th>PTS%</th>\n",
       "      <th>GF</th>\n",
       "      <th>...</th>\n",
       "      <th>PIM/G</th>\n",
       "      <th>oPIM/G</th>\n",
       "      <th>S</th>\n",
       "      <th>S%</th>\n",
       "      <th>SA</th>\n",
       "      <th>SV%</th>\n",
       "      <th>SO</th>\n",
       "      <th>G</th>\n",
       "      <th>PPG</th>\n",
       "      <th>SHOOTOUTS</th>\n",
       "    </tr>\n",
       "  </thead>\n",
       "  <tbody>\n",
       "    <tr>\n",
       "      <th>0</th>\n",
       "      <td>1</td>\n",
       "      <td>Florida Panthers</td>\n",
       "      <td>27.8</td>\n",
       "      <td>82</td>\n",
       "      <td>58</td>\n",
       "      <td>18</td>\n",
       "      <td>6</td>\n",
       "      <td>122</td>\n",
       "      <td>0.744</td>\n",
       "      <td>337</td>\n",
       "      <td>...</td>\n",
       "      <td>10.1</td>\n",
       "      <td>10.8</td>\n",
       "      <td>3062</td>\n",
       "      <td>11.0</td>\n",
       "      <td>2515</td>\n",
       "      <td>0.904</td>\n",
       "      <td>5</td>\n",
       "      <td>579</td>\n",
       "      <td>117</td>\n",
       "      <td>7</td>\n",
       "    </tr>\n",
       "    <tr>\n",
       "      <th>1</th>\n",
       "      <td>2</td>\n",
       "      <td>Colorado Avalanche</td>\n",
       "      <td>28.2</td>\n",
       "      <td>82</td>\n",
       "      <td>56</td>\n",
       "      <td>19</td>\n",
       "      <td>7</td>\n",
       "      <td>119</td>\n",
       "      <td>0.726</td>\n",
       "      <td>308</td>\n",
       "      <td>...</td>\n",
       "      <td>9.0</td>\n",
       "      <td>10.4</td>\n",
       "      <td>2874</td>\n",
       "      <td>10.7</td>\n",
       "      <td>2625</td>\n",
       "      <td>0.912</td>\n",
       "      <td>7</td>\n",
       "      <td>540</td>\n",
       "      <td>115</td>\n",
       "      <td>6</td>\n",
       "    </tr>\n",
       "    <tr>\n",
       "      <th>2</th>\n",
       "      <td>3</td>\n",
       "      <td>Carolina Hurricanes</td>\n",
       "      <td>28.3</td>\n",
       "      <td>82</td>\n",
       "      <td>54</td>\n",
       "      <td>20</td>\n",
       "      <td>8</td>\n",
       "      <td>116</td>\n",
       "      <td>0.707</td>\n",
       "      <td>277</td>\n",
       "      <td>...</td>\n",
       "      <td>9.2</td>\n",
       "      <td>7.7</td>\n",
       "      <td>2798</td>\n",
       "      <td>9.9</td>\n",
       "      <td>2310</td>\n",
       "      <td>0.913</td>\n",
       "      <td>6</td>\n",
       "      <td>477</td>\n",
       "      <td>84</td>\n",
       "      <td>3</td>\n",
       "    </tr>\n",
       "    <tr>\n",
       "      <th>3</th>\n",
       "      <td>4</td>\n",
       "      <td>Toronto Maple Leafs</td>\n",
       "      <td>28.4</td>\n",
       "      <td>82</td>\n",
       "      <td>54</td>\n",
       "      <td>21</td>\n",
       "      <td>7</td>\n",
       "      <td>115</td>\n",
       "      <td>0.701</td>\n",
       "      <td>312</td>\n",
       "      <td>...</td>\n",
       "      <td>8.6</td>\n",
       "      <td>8.5</td>\n",
       "      <td>2835</td>\n",
       "      <td>11.0</td>\n",
       "      <td>2511</td>\n",
       "      <td>0.900</td>\n",
       "      <td>7</td>\n",
       "      <td>564</td>\n",
       "      <td>105</td>\n",
       "      <td>4</td>\n",
       "    </tr>\n",
       "    <tr>\n",
       "      <th>4</th>\n",
       "      <td>5</td>\n",
       "      <td>Minnesota Wild</td>\n",
       "      <td>29.4</td>\n",
       "      <td>82</td>\n",
       "      <td>53</td>\n",
       "      <td>22</td>\n",
       "      <td>7</td>\n",
       "      <td>113</td>\n",
       "      <td>0.689</td>\n",
       "      <td>305</td>\n",
       "      <td>...</td>\n",
       "      <td>10.8</td>\n",
       "      <td>10.8</td>\n",
       "      <td>2666</td>\n",
       "      <td>11.4</td>\n",
       "      <td>2577</td>\n",
       "      <td>0.903</td>\n",
       "      <td>3</td>\n",
       "      <td>554</td>\n",
       "      <td>116</td>\n",
       "      <td>9</td>\n",
       "    </tr>\n",
       "  </tbody>\n",
       "</table>\n",
       "<p>5 rows × 35 columns</p>\n",
       "</div>"
      ],
      "text/plain": [
       "   Rk                 Team  AvAge  GP   W   L  OL  PTS   PTS%   GF  ...  \\\n",
       "0   1     Florida Panthers   27.8  82  58  18   6  122  0.744  337  ...   \n",
       "1   2   Colorado Avalanche   28.2  82  56  19   7  119  0.726  308  ...   \n",
       "2   3  Carolina Hurricanes   28.3  82  54  20   8  116  0.707  277  ...   \n",
       "3   4  Toronto Maple Leafs   28.4  82  54  21   7  115  0.701  312  ...   \n",
       "4   5       Minnesota Wild   29.4  82  53  22   7  113  0.689  305  ...   \n",
       "\n",
       "   PIM/G  oPIM/G     S    S%    SA    SV%  SO    G  PPG  SHOOTOUTS  \n",
       "0   10.1    10.8  3062  11.0  2515  0.904   5  579  117          7  \n",
       "1    9.0    10.4  2874  10.7  2625  0.912   7  540  115          6  \n",
       "2    9.2     7.7  2798   9.9  2310  0.913   6  477   84          3  \n",
       "3    8.6     8.5  2835  11.0  2511  0.900   7  564  105          4  \n",
       "4   10.8    10.8  2666  11.4  2577  0.903   3  554  116          9  \n",
       "\n",
       "[5 rows x 35 columns]"
      ]
     },
     "execution_count": 2,
     "metadata": {},
     "output_type": "execute_result"
    }
   ],
   "source": [
    "team_stats = pd.read_csv(os.path.join(path, 'team_stats.csv'))\n",
    "print(team_stats.columns)\n",
    "team_stats.head()"
   ]
  },
  {
   "cell_type": "markdown",
   "metadata": {},
   "source": [
    "#### Regular Season Games"
   ]
  },
  {
   "cell_type": "code",
   "execution_count": 3,
   "metadata": {},
   "outputs": [
    {
     "name": "stdout",
     "output_type": "stream",
     "text": [
      "Index(['date', 'away_team', 'away_goals', 'home_team', 'home_goals',\n",
      "       'length_of_game_min', 'outcome', 'home_wins'],\n",
      "      dtype='object')\n"
     ]
    },
    {
     "data": {
      "text/html": [
       "<div>\n",
       "<style scoped>\n",
       "    .dataframe tbody tr th:only-of-type {\n",
       "        vertical-align: middle;\n",
       "    }\n",
       "\n",
       "    .dataframe tbody tr th {\n",
       "        vertical-align: top;\n",
       "    }\n",
       "\n",
       "    .dataframe thead th {\n",
       "        text-align: right;\n",
       "    }\n",
       "</style>\n",
       "<table border=\"1\" class=\"dataframe\">\n",
       "  <thead>\n",
       "    <tr style=\"text-align: right;\">\n",
       "      <th></th>\n",
       "      <th>date</th>\n",
       "      <th>away_team</th>\n",
       "      <th>away_goals</th>\n",
       "      <th>home_team</th>\n",
       "      <th>home_goals</th>\n",
       "      <th>length_of_game_min</th>\n",
       "      <th>outcome</th>\n",
       "      <th>home_wins</th>\n",
       "    </tr>\n",
       "  </thead>\n",
       "  <tbody>\n",
       "    <tr>\n",
       "      <th>0</th>\n",
       "      <td>2021-10-12</td>\n",
       "      <td>Pittsburgh Penguins</td>\n",
       "      <td>6</td>\n",
       "      <td>Tampa Bay Lightning</td>\n",
       "      <td>2</td>\n",
       "      <td>153</td>\n",
       "      <td>1</td>\n",
       "      <td>0</td>\n",
       "    </tr>\n",
       "    <tr>\n",
       "      <th>1</th>\n",
       "      <td>2021-10-12</td>\n",
       "      <td>Seattle Kraken</td>\n",
       "      <td>3</td>\n",
       "      <td>Vegas Golden Knights</td>\n",
       "      <td>4</td>\n",
       "      <td>145</td>\n",
       "      <td>0</td>\n",
       "      <td>1</td>\n",
       "    </tr>\n",
       "    <tr>\n",
       "      <th>2</th>\n",
       "      <td>2021-10-13</td>\n",
       "      <td>Winnipeg Jets</td>\n",
       "      <td>1</td>\n",
       "      <td>Anaheim Ducks</td>\n",
       "      <td>4</td>\n",
       "      <td>149</td>\n",
       "      <td>0</td>\n",
       "      <td>1</td>\n",
       "    </tr>\n",
       "    <tr>\n",
       "      <th>3</th>\n",
       "      <td>2021-10-13</td>\n",
       "      <td>Chicago Blackhawks</td>\n",
       "      <td>2</td>\n",
       "      <td>Colorado Avalanche</td>\n",
       "      <td>4</td>\n",
       "      <td>152</td>\n",
       "      <td>0</td>\n",
       "      <td>1</td>\n",
       "    </tr>\n",
       "    <tr>\n",
       "      <th>4</th>\n",
       "      <td>2021-10-13</td>\n",
       "      <td>Vancouver Canucks</td>\n",
       "      <td>2</td>\n",
       "      <td>Edmonton Oilers</td>\n",
       "      <td>3</td>\n",
       "      <td>162</td>\n",
       "      <td>0</td>\n",
       "      <td>1</td>\n",
       "    </tr>\n",
       "  </tbody>\n",
       "</table>\n",
       "</div>"
      ],
      "text/plain": [
       "         date            away_team  away_goals             home_team  \\\n",
       "0  2021-10-12  Pittsburgh Penguins           6   Tampa Bay Lightning   \n",
       "1  2021-10-12       Seattle Kraken           3  Vegas Golden Knights   \n",
       "2  2021-10-13        Winnipeg Jets           1         Anaheim Ducks   \n",
       "3  2021-10-13   Chicago Blackhawks           2    Colorado Avalanche   \n",
       "4  2021-10-13    Vancouver Canucks           2       Edmonton Oilers   \n",
       "\n",
       "   home_goals  length_of_game_min  outcome  home_wins  \n",
       "0           2                 153        1          0  \n",
       "1           4                 145        0          1  \n",
       "2           4                 149        0          1  \n",
       "3           4                 152        0          1  \n",
       "4           3                 162        0          1  "
      ]
     },
     "execution_count": 3,
     "metadata": {},
     "output_type": "execute_result"
    }
   ],
   "source": [
    "games = pd.read_csv(os.path.join(path, 'regular_season.csv'))\n",
    "print(games.columns)\n",
    "games.head()"
   ]
  },
  {
   "cell_type": "markdown",
   "metadata": {},
   "source": [
    "## Glossary \n",
    "\n",
    "### Team Statistics\n",
    "\n",
    "| Metric | Description |\n",
    "| :---        |    :----:   |\n",
    "| Rk | Rank |\n",
    "| AvAge | Average age of team weighted by time on ice. |\n",
    "| GP | Games Played |\n",
    "| W | Wins |\n",
    "| L | Losses |\n",
    "| OL | Overtime/Shootout Losses (2000 season onward) |\n",
    "| PTS | Points |\n",
    "| PTS% | Points percentage (i.e., points divided by maximum points) |\n",
    "| GF | Goals For |\n",
    "| GA | Goals Against |\n",
    "| SOW | Shootout Wins |\n",
    "| SOL | Shootout Losses |\n",
    "| SRS | Simple Rating System; a team rating that takes into account average goal differential and strength of schedule. The rating is denominated in goals above/below average, where zero is average. |\n",
    "| SOS | Strength of Schedule; a rating of strength of schedule. The rating is denominated in goals above/below average, where zero is average. |\n",
    "| GF/G | Goals For Per Game |\n",
    "| GA/G | Goals Against Per Game |\n",
    "| PP | Power Play Goals | \n",
    "| PPO | Power Play Opportunities |\n",
    "| PP% | Power Play Percentage |\n",
    "| PPA | Power Play Goals Against |\n",
    "| PPOA | Power Play Opportunities Against |\n",
    "| PK% | Penalty Killing Percentage |\n",
    "| SH | Short-Handed Goals |\n",
    "| SHA | Short-Handed Goals Against |\n",
    "| PIM/G | Penalties in Minutes Per Game |\n",
    "| oPIM/G | Opponent Penalties in Minutes Per Game |\n",
    "| S | Shots on Goal |\n",
    "| S% | Shooting Percentage |\n",
    "| SA | Shots Against |\n",
    "| SV% | Save Percentage |\n",
    "| SO | Shutouts (i.e. games where no goals are scored against the team in question. |\n",
    "\n",
    "### Regular Season History\n",
    "| Metric | Description |\n",
    "| ------ | ----------- |\n",
    "| date | Date of Game |\n",
    "| away_team | Away Team |\n",
    "| away_goals | Away Goals |\n",
    "| home_team | Home Team |\n",
    "| home_goals | Home Goals |\n",
    "| length_of_game_min | Duration of Game |\n",
    "| outcome | Away Win (used as predictor) |\n",
    "| home_wins | Home Win |"
   ]
  },
  {
   "cell_type": "markdown",
   "metadata": {},
   "source": [
    "## Exploratory Data Analysis"
   ]
  },
  {
   "cell_type": "markdown",
   "metadata": {},
   "source": [
    "### Correlations\n",
    "\n",
    "Plotting correlations in the data, I'm looking at any relationships at least 70% positively correlated and less than a 100% correlation (absolute) to focus on variables of interest. "
   ]
  },
  {
   "cell_type": "code",
   "execution_count": 4,
   "metadata": {},
   "outputs": [
    {
     "data": {
      "image/png": "[encoded data removed]",
      "text/plain": [
       "<Figure size 1152x864 with 2 Axes>"
      ]
     },
     "metadata": {
      "needs_background": "light"
     },
     "output_type": "display_data"
    },
    {
     "name": "stdout",
     "output_type": "stream",
     "text": [
      "Top 10 Correlations\n"
     ]
    },
    {
     "data": {
      "text/html": [
       "<div>\n",
       "<style scoped>\n",
       "    .dataframe tbody tr th:only-of-type {\n",
       "        vertical-align: middle;\n",
       "    }\n",
       "\n",
       "    .dataframe tbody tr th {\n",
       "        vertical-align: top;\n",
       "    }\n",
       "\n",
       "    .dataframe thead th {\n",
       "        text-align: right;\n",
       "    }\n",
       "</style>\n",
       "<table border=\"1\" class=\"dataframe\">\n",
       "  <thead>\n",
       "    <tr style=\"text-align: right;\">\n",
       "      <th></th>\n",
       "      <th>variable</th>\n",
       "      <th>value</th>\n",
       "    </tr>\n",
       "  </thead>\n",
       "  <tbody>\n",
       "    <tr>\n",
       "      <th>1</th>\n",
       "      <td>W</td>\n",
       "      <td>0.993766</td>\n",
       "    </tr>\n",
       "    <tr>\n",
       "      <th>3</th>\n",
       "      <td>PTS</td>\n",
       "      <td>0.993766</td>\n",
       "    </tr>\n",
       "    <tr>\n",
       "      <th>4</th>\n",
       "      <td>PTS%</td>\n",
       "      <td>0.993735</td>\n",
       "    </tr>\n",
       "    <tr>\n",
       "      <th>0</th>\n",
       "      <td>Rk</td>\n",
       "      <td>0.983110</td>\n",
       "    </tr>\n",
       "    <tr>\n",
       "      <th>2</th>\n",
       "      <td>L</td>\n",
       "      <td>0.983110</td>\n",
       "    </tr>\n",
       "    <tr>\n",
       "      <th>5</th>\n",
       "      <td>SRS</td>\n",
       "      <td>0.973541</td>\n",
       "    </tr>\n",
       "    <tr>\n",
       "      <th>7</th>\n",
       "      <td>PP</td>\n",
       "      <td>0.944115</td>\n",
       "    </tr>\n",
       "    <tr>\n",
       "      <th>8</th>\n",
       "      <td>PP%</td>\n",
       "      <td>0.944115</td>\n",
       "    </tr>\n",
       "    <tr>\n",
       "      <th>6</th>\n",
       "      <td>SOS</td>\n",
       "      <td>0.921388</td>\n",
       "    </tr>\n",
       "  </tbody>\n",
       "</table>\n",
       "</div>"
      ],
      "text/plain": [
       "  variable     value\n",
       "1        W  0.993766\n",
       "3      PTS  0.993766\n",
       "4     PTS%  0.993735\n",
       "0       Rk  0.983110\n",
       "2        L  0.983110\n",
       "5      SRS  0.973541\n",
       "7       PP  0.944115\n",
       "8      PP%  0.944115\n",
       "6      SOS  0.921388"
      ]
     },
     "execution_count": 4,
     "metadata": {},
     "output_type": "execute_result"
    }
   ],
   "source": [
    "## Correlation Matrix\n",
    "import seaborn as sns\n",
    "import matplotlib.pyplot as plt \n",
    "\n",
    "plt.figure(figsize=(16,12))\n",
    "\n",
    "corr = team_stats.corr() # all correlations\n",
    "corr = corr[np.logical_and(corr>0.90, corr<.9999)].abs()\n",
    "\n",
    "# Determining strongest correlation patterns\n",
    "strong_corrs_df = pd.DataFrame({k:v for k, v in corr[~corr.isna()].max().dropna().items()}, index=[0]).melt()\n",
    "strong_corrs_df = strong_corrs_df.sort_values('value', ascending=False).head(10)\n",
    "\n",
    "sns.heatmap(corr, annot=True)\n",
    "\n",
    "plt.show()\n",
    "\n",
    "## Top 10 Correlations\n",
    "print('Top 10 Correlations')\n",
    "strong_corrs_df"
   ]
  },
  {
   "cell_type": "markdown",
   "metadata": {},
   "source": []
  },
  {
   "cell_type": "markdown",
   "metadata": {},
   "source": [
    "### Summary \n",
    "\n",
    "Looking at the strongest of correlations, we can tell that Wins, Losses, Points, Point Percentage, the Simple Rating System (SRS), Strength of Schedule, Power Play, and Power Play Percentage are the most correlated variables. Here are the strongest correlations:\n",
    "\n",
    "- **Wins to Points & Point Percentage**\n",
    "- **Points & Point Percentage to SRS** \n",
    "- **Wins to SRS**\n",
    "- **Losses to Strength of Schedule (SOS)**\n",
    "- **Power Play to Power Play Percentage**\n",
    "\n",
    "The SRS is an all-around stat measuring a team's goal differential to the strength of their game schedule. If they had performed at home to a weaker team, they would have a high schedule strength. Paired with the positive goal differential, this means the team is fairly dominant. "
   ]
  },
  {
   "cell_type": "code",
   "execution_count": 5,
   "metadata": {},
   "outputs": [
    {
     "ename": "NameError",
     "evalue": "name 'df' is not defined",
     "output_type": "error",
     "traceback": [
      "\u001b[0;31m---------------------------------------------------------------------------\u001b[0m",
      "\u001b[0;31mNameError\u001b[0m                                 Traceback (most recent call last)",
      "Input \u001b[0;32mIn [5]\u001b[0m, in \u001b[0;36m<cell line: 4>\u001b[0;34m()\u001b[0m\n\u001b[1;32m      1\u001b[0m \u001b[38;5;66;03m## Plotting strongest correlations \u001b[39;00m\n\u001b[1;32m      2\u001b[0m plt\u001b[38;5;241m.\u001b[39mfigure(figsize\u001b[38;5;241m=\u001b[39m(\u001b[38;5;241m16\u001b[39m,\u001b[38;5;241m12\u001b[39m))\n\u001b[0;32m----> 4\u001b[0m top_10_corr \u001b[38;5;241m=\u001b[39m \u001b[43mdf\u001b[49m[strong_corrs_df\u001b[38;5;241m.\u001b[39mvariable\u001b[38;5;241m.\u001b[39mto_list()]\u001b[38;5;241m.\u001b[39mcorr()\n\u001b[1;32m      5\u001b[0m sns\u001b[38;5;241m.\u001b[39mheatmap(top_10_corr, annot\u001b[38;5;241m=\u001b[39m\u001b[38;5;28;01mTrue\u001b[39;00m)\n\u001b[1;32m      6\u001b[0m plt\u001b[38;5;241m.\u001b[39msavefig(\u001b[38;5;124m'\u001b[39m\u001b[38;5;124m../../images/top_10_correlations.png\u001b[39m\u001b[38;5;124m'\u001b[39m)\n",
      "\u001b[0;31mNameError\u001b[0m: name 'df' is not defined"
     ]
    },
    {
     "data": {
      "text/plain": [
       "<Figure size 1152x864 with 0 Axes>"
      ]
     },
     "metadata": {},
     "output_type": "display_data"
    }
   ],
   "source": [
    "## Plotting strongest correlations \n",
    "plt.figure(figsize=(16,12))\n",
    "\n",
    "top_10_corr = df[strong_corrs_df.variable.to_list()].corr()\n",
    "sns.heatmap(top_10_corr, annot=True)\n",
    "plt.savefig('../../images/top_10_correlations.png')\n",
    "\n",
    "plt.show()\n"
   ]
  },
  {
   "cell_type": "markdown",
   "metadata": {},
   "source": [
    "Having a better look at these correlations, it makes a good amount of sense as we'd be biased in understanding. \n",
    "Some key points to take: \n",
    "1. GF/G -> PP, SOS Correlation: The greater goals scored may not determine strength on the powerplay entirely, as a powerplay performer would likely be more strategic and many different factors influence a powerplay. The strength of schedule can also be weaker, in other words the ease of a team to score goals must mean they have less difficult games. It should be more difficult to score on a better team (obviously). \n",
    "2. Losses and Rank: The more losses, the lower the rank\n",
    "3. Wins and Rank: The more wins, the higher the rank"
   ]
  },
  {
   "cell_type": "markdown",
   "metadata": {},
   "source": [
    "## Feature Engineering\n",
    "**_Determining features based upon EDA and working towards diving further into them_**\n",
    "\n",
    "It appears that I'll need to focus on win, point, power play, and schedule statistics. To encapsulate some further insight, I'll need to create some features that summarize goals and can draw statistics from them we can measure based upon wins. These can be tied in as performance metrics, and if conducive, will reveal more insight into the top teams in the league. "
   ]
  },
  {
   "cell_type": "code",
   "execution_count": null,
   "metadata": {},
   "outputs": [],
   "source": [
    "## Creating percentages for new metrics and columns\n",
    "def ratio_maker(df: pd.DataFrame, newcol: str, xcol: str, ycol: str) -> Any: \n",
    "    df[f\"{newcol}\"] = (df[f\"{xcol}\"] / df[f\"{ycol}\"])*100\n",
    "\n",
    "## Calc new metrics and store in new cols \n",
    "ratio_maker(team_stats, \"W%\", \"W\", \"GP\") # win-loss percentage. wins / games played\n",
    "ratio_maker(team_stats, \"GDIFF\", \"GF\", \"G\") # goal differential. goals for / (goals for + goals against)\n",
    "ratio_maker(team_stats, \"SOW%\", \"SOW\", \"SHOOTOUTS\") # shootout win-loss ratio. shootout wins / shootout games. \n",
    "ratio_maker(team_stats, \"PPW%\", \"PP\", \"PPO\") # power-play success percentage. power play goals / power play opportunities\n",
    "\n",
    "team_stats.head()"
   ]
  },
  {
   "cell_type": "markdown",
   "metadata": {},
   "source": [
    "_Here, I created:_\n",
    "- a win percentage (W%)\n",
    "- goal differential (GDIFF)\n",
    "- win percentage in games leading to shootout (SOW%)\n",
    "- performance on the power play (PPW%)\n",
    "#### As an example, here are the top ten teams as shown with these metrics. "
   ]
  },
  {
   "cell_type": "code",
   "execution_count": null,
   "metadata": {},
   "outputs": [],
   "source": [
    "winners = team_stats[['Rk','Team','W%', 'GDIFF', 'SOW%', 'PPW%', 'PK%']].sort_values('Rk', ascending=True).head(10)\n",
    "winners"
   ]
  },
  {
   "cell_type": "markdown",
   "metadata": {},
   "source": [
    "Some key takeways: \n",
    "- Shootouts (SOW%) are low for teams currently in the playoffs and performing well: Tampa Bay Lightning (28.5%), Carolina Hurricanes (33.33%), Florida Panthers (42.8%). \n",
    "- The upper bound of all metrics shows a high win-loss percentage, meaning a positive record\n",
    "\n",
    "#### Averaging the Metrics \n",
    "By taking the averages of goal differential, shootout win percentage, and power-play win percentage, I want to see if the overall win percentage is affected"
   ]
  },
  {
   "cell_type": "code",
   "execution_count": null,
   "metadata": {},
   "outputs": [],
   "source": [
    "avg = []\n",
    "for i, j in winners.iloc[:,2:].iterrows(): \n",
    "    avg.append(j.mean())\n",
    "    \n",
    "winners['avg_overall'] = avg\n",
    "winners = winners.sort_values('avg_overall', ascending=False)\n",
    "winners"
   ]
  },
  {
   "cell_type": "markdown",
   "metadata": {},
   "source": [
    "An interesting note here is the high shootout performance of the Toronto Maple Leafs. Their overall win percentage is close to their average performance overall due to this. When looking at the Florida Panthers who are ranked first, however, they have the second highest goal differential but the highest win percentage. The statistic bringing their overall success down is their lesser performance than others in shootouts. It seems here that's an influential factor toward playoff readiness, which is understandable. "
   ]
  },
  {
   "cell_type": "code",
   "execution_count": null,
   "metadata": {},
   "outputs": [],
   "source": [
    "plt.figure(figsize=(12,8))\n",
    "\n",
    "winners_melt = pd.melt(winners, id_vars=['Rk', 'Team'], value_vars=['W%', 'GDIFF', 'SOW%', 'PPW%', 'avg_overall'])\n",
    "winners_melt.sort_values('Rk')\n",
    "\n",
    "ax = sns.boxplot(x='variable', y='value', data=winners_melt, color='lightskyblue')\n",
    "ax = sns.swarmplot(x='variable', y='value', data=winners_melt, color='red')\n"
   ]
  },
  {
   "cell_type": "markdown",
   "metadata": {},
   "source": [
    "The team performance is indicated by rank, and the rank appears to be directly related to the higher level of these statistics: \n",
    "\n",
    "- Goal differential is not as varied, showing it is hard to get a high differential. \n",
    "- The widest range here is shootout win percentages - teams with the best seem to be rated the best.\n",
    "\n",
    "> Statistical Tests \n",
    ">- i) To ensure this is accurate, I can conduct a One-Way ANoVA (multiple factor test to determine the variance of variables results in a group mean of zero, if true, and therefore significant in influencing an output). \n",
    ">- ii) I also noticed that rank as an output variable would be a reliable predictor. To test this, I can add a Spearman's Rho correlation test as rank data is scaled. This will show what correlates with rank significantly. "
   ]
  },
  {
   "cell_type": "markdown",
   "metadata": {},
   "source": [
    "### Hypothesis Testing \n",
    "\n",
    "Given enough analysis, I'll form some hypotheses to test formally: \n",
    "\n",
    "- _H1_: Win percentage, goal differential, shootout wins, and power-play wins all have variance in means, and thus have a direct impact on overall team record\n",
    "- _H0_: All such variables have equal means, and thus no impact on overall team record \n",
    "\n",
    "Ranked Hypotheses: \n",
    "\n",
    "- _H1_: Features seen positively correlated with game wins have a strong positive correlation with the team's league rank. \n",
    "- _H0_: All such variables do not have an impact on the team's league rank. "
   ]
  },
  {
   "cell_type": "code",
   "execution_count": null,
   "metadata": {},
   "outputs": [],
   "source": [
    "## One-Way ANOVA\n",
    "\n",
    "fvalue, pvalue = stats.f_oneway(df['W%'], df['GDIFF'], df['SOW%'])\n",
    "fvalue, pvalue"
   ]
  },
  {
   "cell_type": "code",
   "execution_count": null,
   "metadata": {},
   "outputs": [],
   "source": [
    "## One-Way ANOVA w/ Power Play\n",
    "\n",
    "fvalue, pvalue = stats.f_oneway(df['W%'], df['GDIFF'], df['SOW%'], df['PPW%'])\n",
    "fvalue, pvalue"
   ]
  },
  {
   "cell_type": "code",
   "execution_count": null,
   "metadata": {},
   "outputs": [],
   "source": [
    "## Spearman's RHO Ranked Test. Can also used Mann-Whitney U-Test for categorical rank outcomes. In this case, it's numerical.\n",
    "\n",
    "spearman = team_stats[['Rk', 'W', 'L', 'GDIFF', 'SOW%', 'PTS', 'PTS%', 'SRS', 'SOS', 'PP', 'PP%']].corr(method='spearman')\n",
    "spearman[:1].abs().melt() # absolute value, as rank is inverse and will show as a negative correlation. \n"
   ]
  },
  {
   "cell_type": "markdown",
   "metadata": {},
   "source": [
    "#### Summary \n",
    "\n",
    "1) One-Way ANOVA\n",
    "\n",
    "The test concludes with a high f-statistic, which is expected. The percentages are widely varied and there are 32 teams. The p-value suggests that among the variance, group means are not equal for the metrics selected and thus influence win rate. The alternate hypothesis is proven, so these tested variables have a significant impact on overall wins. \n",
    "\n",
    "2) Spearman's RHO Rank Test\n",
    "\n",
    "The test concludes with a high correlation spread. I took the absolute value, since as the rank goes up, there is a negative implication. The lower the rank, the better the team. As seen in the summary of correlations, the points and goal differential determine a team's rank, but that is determined heavily upon the strength of their schedule and their powerplay performance. If a team is reliable on the power-play, they tend to perform better. This makes sense given a team will need to draw penalties from their opponent to gain an additional player or even 5-on-3 advantage, which increases odds for players to get goals. "
   ]
  },
  {
   "cell_type": "markdown",
   "metadata": {},
   "source": [
    "TODO: __Use the permutation feature importance algorithm on the spearman correlation to select the most valuable features to be used in the model__"
   ]
  },
  {
   "cell_type": "code",
   "execution_count": null,
   "metadata": {},
   "outputs": [],
   "source": []
  }
 ],
 "metadata": {
  "interpreter": {
   "hash": "98c8cd73a93004c065fb77cf643d7911a2aa0e653472682b12ed0f9699f5e8d7"
  },
  "kernelspec": {
   "display_name": "Python 3 (ipykernel)",
   "language": "python",
   "name": "python3"
  },
  "language_info": {
   "codemirror_mode": {
    "name": "ipython",
    "version": 3
   },
   "file_extension": ".py",
   "mimetype": "text/x-python",
   "name": "python",
   "nbconvert_exporter": "python",
   "pygments_lexer": "ipython3",
   "version": "3.10.4"
  }
 },
 "nbformat": 4,
 "nbformat_minor": 2
}
